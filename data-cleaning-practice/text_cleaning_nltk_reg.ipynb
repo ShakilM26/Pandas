{
  "nbformat": 4,
  "nbformat_minor": 0,
  "metadata": {
    "colab": {
      "provenance": [],
      "authorship_tag": "ABX9TyPQnWFmmPDlimPT1ZkORviY",
      "include_colab_link": true
    },
    "kernelspec": {
      "name": "python3",
      "display_name": "Python 3"
    },
    "language_info": {
      "name": "python"
    }
  },
  "cells": [
    {
      "cell_type": "markdown",
      "metadata": {
        "id": "view-in-github",
        "colab_type": "text"
      },
      "source": [
        "<a href=\"https://colab.research.google.com/github/ShakilM26/Pandas/blob/main/data-cleaning-practice/text_cleaning_nltk_reg.ipynb\" target=\"_parent\"><img src=\"https://colab.research.google.com/assets/colab-badge.svg\" alt=\"Open In Colab\"/></a>"
      ]
    },
    {
      "cell_type": "markdown",
      "source": [
        "# ***Normalize Case***"
      ],
      "metadata": {
        "id": "Ln3trmqTng2s"
      }
    },
    {
      "cell_type": "code",
      "source": [
        "# Normalize the case of words \n",
        "# Machine doesn't understand different cases so that we have to make it same case.\n",
        "\n",
        "daenerys = \"I am Daenerys Stormborn of House Targaryen, of the blood of Old Valyeria. I am the dragon's daughter, and I swear to you that those who would harm you will die screaming.\"\n",
        "\n",
        "daenerys=daenerys.lower()\n",
        "daenerys"
      ],
      "metadata": {
        "colab": {
          "base_uri": "https://localhost:8080/",
          "height": 53
        },
        "id": "3VtgmxgjnaXL",
        "outputId": "ce8480cc-07ec-4aa5-a15e-c601e8d4a377"
      },
      "execution_count": 20,
      "outputs": [
        {
          "output_type": "execute_result",
          "data": {
            "text/plain": [
              "\"i am daenerys stormborn of house targaryen, of the blood of old valyeria. i am the dragon's daughter, and i swear to you that those who would harm you will die screaming.\""
            ],
            "application/vnd.google.colaboratory.intrinsic+json": {
              "type": "string"
            }
          },
          "metadata": {},
          "execution_count": 20
        }
      ]
    },
    {
      "cell_type": "markdown",
      "source": [
        "# ***Removing Stopwords***"
      ],
      "metadata": {
        "id": "jK-OPzR6nwrI"
      }
    },
    {
      "cell_type": "code",
      "source": [
        "# Removing stopwords \n",
        "# Those words which cannot provide value in document\n",
        "# Note: Removing stopwords is not always the best idea!\n",
        "\n",
        "import nltk\n",
        "from nltk.corpus import stopwords\n",
        "nltk.download('stopwords')"
      ],
      "metadata": {
        "colab": {
          "base_uri": "https://localhost:8080/"
        },
        "id": "lcGf9VMbkX_N",
        "outputId": "084adabe-ca86-420d-ff97-4d0a3b570c57"
      },
      "execution_count": 2,
      "outputs": [
        {
          "output_type": "stream",
          "name": "stderr",
          "text": [
            "[nltk_data] Downloading package stopwords to /root/nltk_data...\n",
            "[nltk_data]   Unzipping corpora/stopwords.zip.\n"
          ]
        },
        {
          "output_type": "execute_result",
          "data": {
            "text/plain": [
              "True"
            ]
          },
          "metadata": {},
          "execution_count": 2
        }
      ]
    },
    {
      "cell_type": "code",
      "source": [
        "stop_words = set(stopwords.words(\"english\"))\n",
        "print(stop_words)"
      ],
      "metadata": {
        "colab": {
          "base_uri": "https://localhost:8080/"
        },
        "id": "9LO81mWgkb0P",
        "outputId": "9c4875e7-caa5-4b7c-d539-526c46195f4e"
      },
      "execution_count": 3,
      "outputs": [
        {
          "output_type": "stream",
          "name": "stdout",
          "text": [
            "{'do', 'why', \"you'd\", 'most', \"wouldn't\", 'they', 'yourself', 'against', 'haven', 'now', 'and', 'at', 'yours', 'aren', 'an', 'once', 'their', 'because', 'when', 'only', \"doesn't\", 'to', 'after', \"isn't\", 'is', 'ma', 'these', 'not', \"should've\", 'needn', 'm', 'those', 'both', \"don't\", 'had', 'itself', 'under', 'over', 'nor', 'off', 'until', 'wouldn', 'just', \"wasn't\", \"mustn't\", 'himself', 'be', 'she', 'a', 'your', 'what', 'its', 'for', 'as', 're', 'some', 'which', 'hadn', \"shouldn't\", 'our', 'during', 'didn', 'myself', 'having', 'should', \"mightn't\", 'with', 'into', \"aren't\", \"won't\", 'can', 'than', 'it', 'her', 'here', 'then', 've', 'me', 'y', 'there', 'was', 'will', 'if', 'out', 'while', 'but', 'shan', 'between', 'again', 'o', 'ourselves', 'in', 'each', 'no', 'more', 'been', 'how', \"haven't\", \"you're\", 'don', 'herself', 'this', \"she's\", 'am', \"it's\", 'i', 'further', 'through', 'did', 'any', 'all', 'hasn', 'before', \"that'll\", 'such', 'so', 'weren', 'my', 'we', 'themselves', 'that', \"needn't\", 'him', 'who', 'have', 'on', 'ours', 'hers', 'same', \"couldn't\", 'of', 'you', 'yourselves', 'other', \"hadn't\", 'ain', 'couldn', 's', 'being', 'has', 'isn', 'doing', 'wasn', 'very', 'mustn', 'or', 'own', \"you've\", 'too', \"shan't\", \"weren't\", 'won', 't', 'them', 'by', 'from', 'll', 'doesn', 'shouldn', \"hasn't\", 'up', \"you'll\", 'few', 'about', 'are', 'he', 'down', 'd', 'whom', 'his', 'theirs', 'does', 'above', 'where', \"didn't\", 'were', 'mightn', 'below', 'the'}\n"
          ]
        }
      ]
    },
    {
      "cell_type": "code",
      "source": [
        "x = \"The UK lockdown restrictions will be dropped in the summer so we can go partying again!\"\n",
        "\n",
        "y = \" \".join([word for word in daenerys.split() if word not in stop_words])\n",
        "print(y)"
      ],
      "metadata": {
        "colab": {
          "base_uri": "https://localhost:8080/"
        },
        "id": "c3Ossi9zke9c",
        "outputId": "1baf7b01-72c8-4840-e719-fb68f32cc87c"
      },
      "execution_count": 4,
      "outputs": [
        {
          "output_type": "stream",
          "name": "stdout",
          "text": [
            "daenerys stormborn house targaryen, blood old valyeria. dragon's daughter, swear would harm die screaming.\n"
          ]
        }
      ]
    },
    {
      "cell_type": "code",
      "source": [],
      "metadata": {
        "id": "NkKdCesWs7zZ"
      },
      "execution_count": null,
      "outputs": []
    },
    {
      "cell_type": "markdown",
      "source": [
        "# ***Stemming and Lemmatization*** "
      ],
      "metadata": {
        "id": "bvI07nL9sMlj"
      }
    },
    {
      "cell_type": "code",
      "source": [
        "# Stemming and Lemmatization are both techniques used to normalize text in NLP. \n",
        "# walked, walk and walking are all merely different tenses of the same word. \n",
        "# we have to normalize this otherwise, they’d be treated differently."
      ],
      "metadata": {
        "id": "UUqJnuKeoNTt"
      },
      "execution_count": null,
      "outputs": []
    },
    {
      "cell_type": "code",
      "source": [
        "import nltk\n",
        "from nltk.stem.porter import PorterStemmer\n",
        "from nltk.stem import WordNetLemmatizer \n",
        "\n",
        "words = ['walk', 'walking', 'walks', 'walked', 'ran', 'run', 'runs', 'running']\n",
        "\n",
        "# Stemming\n",
        "stemmer = PorterStemmer()\n",
        "for word in words:\n",
        "  print(word + \"--->\" + stemmer.stem(word))"
      ],
      "metadata": {
        "colab": {
          "base_uri": "https://localhost:8080/"
        },
        "id": "w9m_AhkEsgXa",
        "outputId": "27b7818e-aa6f-4308-9238-401aaddcda6d"
      },
      "execution_count": 22,
      "outputs": [
        {
          "output_type": "stream",
          "name": "stdout",
          "text": [
            "walk--->walk\n",
            "walking--->walk\n",
            "walks--->walk\n",
            "walked--->walk\n",
            "ran--->ran\n",
            "run--->run\n",
            "runs--->run\n",
            "running--->run\n"
          ]
        }
      ]
    },
    {
      "cell_type": "code",
      "source": [
        "# Lemmatization\n",
        "\n",
        "lemmatizer = WordNetLemmatizer()\n",
        "for word in words:\n",
        "  print(word + \"--->\" + lemmatizer.lemmatize(word))"
      ],
      "metadata": {
        "id": "TQtKHIJNsqIC"
      },
      "execution_count": null,
      "outputs": []
    },
    {
      "cell_type": "code",
      "source": [],
      "metadata": {
        "id": "Eh5XgLP0srBL"
      },
      "execution_count": null,
      "outputs": []
    },
    {
      "cell_type": "markdown",
      "source": [
        "***Unicode string*** "
      ],
      "metadata": {
        "id": "O32eSnL1suur"
      }
    },
    {
      "cell_type": "code",
      "source": [
        "# Remove Unicode string\n",
        "\n",
        "unicodes ='Python is good \\u200c for machine learning'\n",
        "\n",
        "# encode it to ascii formats\n",
        "encodes = unicodes.encode(encoding='ascii', errors='ignore')\n",
        "# decode the text\n",
        "decode = encodes.decode()\n",
        "\n",
        "clean_text = ' '.join([word for word in decode.split()])\n",
        "print(clean_text)"
      ],
      "metadata": {
        "colab": {
          "base_uri": "https://localhost:8080/"
        },
        "id": "S5idDz2VkiaZ",
        "outputId": "887e26af-8e78-496a-de18-1399a3f8c3a2"
      },
      "execution_count": 5,
      "outputs": [
        {
          "output_type": "stream",
          "name": "stdout",
          "text": [
            "Python is good for machine learning\n"
          ]
        }
      ]
    },
    {
      "cell_type": "code",
      "source": [],
      "metadata": {
        "id": "8ZrjNNzOkltM"
      },
      "execution_count": null,
      "outputs": []
    },
    {
      "cell_type": "markdown",
      "source": [
        "# **Regular Expression**"
      ],
      "metadata": {
        "id": "XGfh5Cknn-rE"
      }
    },
    {
      "cell_type": "code",
      "source": [
        "# Removing hashtag, html link, punctuation etc\n",
        "\n",
        "import re \n",
        "lines = 'She @farhana is good in speaking. But ritu @ritu is good at speaking, communication, writing and listening'\n",
        "y = re.sub('@\\S+', '', lines)\n",
        "y"
      ],
      "metadata": {
        "colab": {
          "base_uri": "https://localhost:8080/",
          "height": 35
        },
        "id": "oQazL4tmkoZJ",
        "outputId": "0a480157-f1fa-4805-8dbc-a3c1021caa49"
      },
      "execution_count": 21,
      "outputs": [
        {
          "output_type": "execute_result",
          "data": {
            "text/plain": [
              "'She  is good in speaking. But ritu  is good at speaking, communication, writing and listening'"
            ],
            "application/vnd.google.colaboratory.intrinsic+json": {
              "type": "string"
            }
          },
          "metadata": {},
          "execution_count": 21
        }
      ]
    },
    {
      "cell_type": "code",
      "source": [],
      "metadata": {
        "id": "gXEh8ynDkpSW"
      },
      "execution_count": null,
      "outputs": []
    },
    {
      "cell_type": "code",
      "source": [
        "# market tickers, sign\n",
        "\n",
        "sign = 'Tony gave him $2000 in august. Condition was steve payback $1000 in september and $1000 in october.'\n",
        "sign = re.sub('\\$', '', sign)\n",
        "sign"
      ],
      "metadata": {
        "colab": {
          "base_uri": "https://localhost:8080/",
          "height": 35
        },
        "id": "Q65-K3hMks_4",
        "outputId": "9bef481c-be15-434b-d986-45631d9d8eb5"
      },
      "execution_count": 7,
      "outputs": [
        {
          "output_type": "execute_result",
          "data": {
            "text/plain": [
              "'Tony gave him 2000 in august. Condition was steve payback 1000 in september and 1000 in october.'"
            ],
            "application/vnd.google.colaboratory.intrinsic+json": {
              "type": "string"
            }
          },
          "metadata": {},
          "execution_count": 7
        }
      ]
    },
    {
      "cell_type": "code",
      "source": [],
      "metadata": {
        "id": "D4Aq0_0Fktb2"
      },
      "execution_count": null,
      "outputs": []
    },
    {
      "cell_type": "code",
      "source": [
        "# remove urls\n",
        "\n",
        "url = 'Download it from any movie https://www.lotr.com site'\n",
        "url = re.sub(r'https?:\\/\\/.\\S+', '', url)\n",
        "print(url) "
      ],
      "metadata": {
        "colab": {
          "base_uri": "https://localhost:8080/"
        },
        "id": "FCdHPf8Mkv8n",
        "outputId": "9ed98636-78d0-4c11-9270-758e838b23ea"
      },
      "execution_count": 8,
      "outputs": [
        {
          "output_type": "stream",
          "name": "stdout",
          "text": [
            "Download it from any movie  site\n"
          ]
        }
      ]
    },
    {
      "cell_type": "code",
      "source": [
        "# remove '#'\n",
        "\n",
        "hash = \"Shakil #teaching him since 2022\"\n",
        "hash = re.sub('#', '', hash)\n",
        "hash"
      ],
      "metadata": {
        "colab": {
          "base_uri": "https://localhost:8080/",
          "height": 35
        },
        "id": "NXSKmcgakwBe",
        "outputId": "6e85a822-cadd-46fa-e910-8c6fd849ed9f"
      },
      "execution_count": 9,
      "outputs": [
        {
          "output_type": "execute_result",
          "data": {
            "text/plain": [
              "'Shakil teaching him since 2022'"
            ],
            "application/vnd.google.colaboratory.intrinsic+json": {
              "type": "string"
            }
          },
          "metadata": {},
          "execution_count": 9
        }
      ]
    },
    {
      "cell_type": "code",
      "source": [],
      "metadata": {
        "id": "lhKppwlwkwD1"
      },
      "execution_count": null,
      "outputs": []
    },
    {
      "cell_type": "code",
      "source": [
        "import string \n",
        "\n",
        "text = \"This is amazing! but add some value, then remove it.\"\n",
        "punct = set(string.punctuation) \n",
        "text = \"\".join([ch for ch in text if ch not in punct])\n",
        "print(text)"
      ],
      "metadata": {
        "colab": {
          "base_uri": "https://localhost:8080/"
        },
        "id": "RPzbCW4LkwGe",
        "outputId": "3e8b64d5-a31c-4a8d-e946-7d50ffd8c311"
      },
      "execution_count": 10,
      "outputs": [
        {
          "output_type": "stream",
          "name": "stdout",
          "text": [
            "This is amazing but add some value then remove it\n"
          ]
        }
      ]
    },
    {
      "cell_type": "code",
      "source": [],
      "metadata": {
        "id": "qwvMwa2rkwJb"
      },
      "execution_count": null,
      "outputs": []
    },
    {
      "cell_type": "code",
      "source": [],
      "metadata": {
        "id": "it0m43E-k7yz"
      },
      "execution_count": 22,
      "outputs": []
    },
    {
      "cell_type": "code",
      "source": [],
      "metadata": {
        "id": "d5vMZ30qk712"
      },
      "execution_count": 22,
      "outputs": []
    },
    {
      "cell_type": "code",
      "source": [],
      "metadata": {
        "id": "_h8pNROLl2dC"
      },
      "execution_count": null,
      "outputs": []
    },
    {
      "cell_type": "code",
      "source": [],
      "metadata": {
        "id": "MTZCMCWvmEPn"
      },
      "execution_count": null,
      "outputs": []
    },
    {
      "cell_type": "code",
      "source": [],
      "metadata": {
        "id": "nq11lA_DmESg"
      },
      "execution_count": null,
      "outputs": []
    }
  ]
}