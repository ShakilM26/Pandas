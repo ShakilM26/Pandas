{
 "cells": [
  {
   "cell_type": "markdown",
   "id": "c975702c",
   "metadata": {},
   "source": [
    "* capitalize() - except first letter, all letters or words convert into lowercase"
   ]
  },
  {
   "cell_type": "markdown",
   "id": "b12aa12e",
   "metadata": {},
   "source": [
    "* casefold() - lower all letters or words"
   ]
  },
  {
   "cell_type": "code",
   "execution_count": 6,
   "id": "aa1232e7",
   "metadata": {},
   "outputs": [
    {
     "data": {
      "text/plain": [
       "3"
      ]
     },
     "execution_count": 6,
     "metadata": {},
     "output_type": "execute_result"
    }
   ],
   "source": [
    "# count() using to find occurrence of letter,word,phrase\n",
    "\n",
    "line = 'I am shakil and my company name the outfit'\n",
    "counts = line.count('a')\n",
    "counts\n",
    "\n",
    "word = line.count('a', 0, 15) # 0 - start # 15 - end \n",
    "word"
   ]
  },
  {
   "cell_type": "code",
   "execution_count": 11,
   "id": "6b04021d",
   "metadata": {},
   "outputs": [
    {
     "data": {
      "text/plain": [
       "b' The Batman '"
      ]
     },
     "execution_count": 11,
     "metadata": {},
     "output_type": "execute_result"
    }
   ],
   "source": [
    "# encode() used to encode the words or sentences for security of the msgs\n",
    "\n",
    "word = \" The Batman \"\n",
    "encoding = word.encode()\n",
    "encoding"
   ]
  },
  {
   "cell_type": "code",
   "execution_count": 12,
   "id": "42843e05",
   "metadata": {},
   "outputs": [
    {
     "data": {
      "text/plain": [
       "True"
      ]
     },
     "execution_count": 12,
     "metadata": {},
     "output_type": "execute_result"
    }
   ],
   "source": [
    "# endswith() - returns boolean value if suffix is matched or not\n",
    "\n",
    "result = line.endswith('fit')\n",
    "result"
   ]
  },
  {
   "cell_type": "markdown",
   "id": "d3659f1d",
   "metadata": {},
   "source": [
    "* expandtabs() - uses '\\t' character to give the space btwn the words"
   ]
  },
  {
   "cell_type": "markdown",
   "id": "a161b6b9",
   "metadata": {},
   "source": [
    "* find() - find the first occurrence of a letter or word"
   ]
  },
  {
   "cell_type": "code",
   "execution_count": 14,
   "id": "4da36419",
   "metadata": {},
   "outputs": [
    {
     "name": "stdout",
     "output_type": "stream",
     "text": [
      "I want to be a Superhero, mixed of Batman and Superman\n"
     ]
    }
   ],
   "source": [
    "# format()\n",
    "\n",
    "print(\"I want to be a {}, mixed of {} and {}\".format('Superhero','Batman','Superman'))\n"
   ]
  },
  {
   "cell_type": "code",
   "execution_count": 20,
   "id": "c12151d8",
   "metadata": {},
   "outputs": [
    {
     "name": "stdout",
     "output_type": "stream",
     "text": [
      "Hey Batman, I am Flash\n",
      "Hey Batman, I am Flash\n"
     ]
    }
   ],
   "source": [
    "# format map() - used to mapping the values\n",
    "\n",
    "dict1 = {'B':'Batman', 'F':'Flash'}\n",
    "print('Hey {B}, I am {F}'.format(**dict1))\n",
    "\n",
    "# using format_map()\n",
    "print('Hey {B}, I am {F}'.format_map(dict1))"
   ]
  },
  {
   "cell_type": "code",
   "execution_count": null,
   "id": "cfa559fe",
   "metadata": {},
   "outputs": [],
   "source": []
  }
 ],
 "metadata": {
  "kernelspec": {
   "display_name": "Python 3 (ipykernel)",
   "language": "python",
   "name": "python3"
  },
  "language_info": {
   "codemirror_mode": {
    "name": "ipython",
    "version": 3
   },
   "file_extension": ".py",
   "mimetype": "text/x-python",
   "name": "python",
   "nbconvert_exporter": "python",
   "pygments_lexer": "ipython3",
   "version": "3.9.13"
  }
 },
 "nbformat": 4,
 "nbformat_minor": 5
}
