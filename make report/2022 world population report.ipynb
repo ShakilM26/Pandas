{
 "cells": [
  {
   "cell_type": "raw",
   "id": "7d9dd86a",
   "metadata": {},
   "source": [
    "---\n",
    "title: 'World Population 2022 Report'\n",
    "author: 'HK Shakil'\n",
    "date: '01/07/2023'\n",
    "format:\n",
    "  html:\n",
    "    code-fold: true\n",
    "    theme: \n",
    "          light: flatly\n",
    "          dark: darkly\n",
    "execute:\n",
    "  echo: false\n",
    "jupyter: python3\n",
    "---"
   ]
  },
  {
   "cell_type": "code",
   "execution_count": 77,
   "id": "a0c8a7e5",
   "metadata": {},
   "outputs": [],
   "source": [
    "import pandas as pd\n",
    "import seaborn as sns\n",
    "import matplotlib.pyplot as plt"
   ]
  },
  {
   "cell_type": "code",
   "execution_count": 78,
   "id": "7e6c29d1",
   "metadata": {},
   "outputs": [],
   "source": [
    "df = pd.read_csv('C:\\\\Users\\\\Shakil\\\\Downloads\\\\Compressed\\\\world_population 2022.csv')"
   ]
  },
  {
   "cell_type": "code",
   "execution_count": 79,
   "id": "311bca60",
   "metadata": {},
   "outputs": [],
   "source": [
    "df = df.rename(columns={'Country/Territory':'Country'})"
   ]
  },
  {
   "cell_type": "code",
   "execution_count": 80,
   "id": "3bfc03c6",
   "metadata": {},
   "outputs": [
    {
     "data": {
      "image/png": "[encoded data removed]",
      "text/plain": [
       "<Figure size 640x480 with 1 Axes>"
      ]
     },
     "metadata": {},
     "output_type": "display_data"
    }
   ],
   "source": [
    "sns.barplot(x='Continent', y='2022 Population', data=df)\n",
    "plt.xticks(rotation=15)\n",
    "plt.show()"
   ]
  },
  {
   "cell_type": "code",
   "execution_count": 81,
   "id": "40b23c08",
   "metadata": {},
   "outputs": [
    {
     "data": {
      "text/html": [
       "<div>\n",
       "<style scoped>\n",
       "    .dataframe tbody tr th:only-of-type {\n",
       "        vertical-align: middle;\n",
       "    }\n",
       "\n",
       "    .dataframe tbody tr th {\n",
       "        vertical-align: top;\n",
       "    }\n",
       "\n",
       "    .dataframe thead th {\n",
       "        text-align: right;\n",
       "    }\n",
       "</style>\n",
       "<table border=\"1\" class=\"dataframe\">\n",
       "  <thead>\n",
       "    <tr style=\"text-align: right;\">\n",
       "      <th></th>\n",
       "      <th>2022 Population</th>\n",
       "      <th>2020 Population</th>\n",
       "      <th>2015 Population</th>\n",
       "      <th>2010 Population</th>\n",
       "    </tr>\n",
       "    <tr>\n",
       "      <th>Continent</th>\n",
       "      <th></th>\n",
       "      <th></th>\n",
       "      <th></th>\n",
       "      <th></th>\n",
       "    </tr>\n",
       "  </thead>\n",
       "  <tbody>\n",
       "    <tr>\n",
       "      <th>Asia</th>\n",
       "      <td>4721383274</td>\n",
       "      <td>4663086535</td>\n",
       "      <td>4458250182</td>\n",
       "      <td>4220041327</td>\n",
       "    </tr>\n",
       "    <tr>\n",
       "      <th>Africa</th>\n",
       "      <td>1426730932</td>\n",
       "      <td>1360671810</td>\n",
       "      <td>1201102442</td>\n",
       "      <td>1055228072</td>\n",
       "    </tr>\n",
       "    <tr>\n",
       "      <th>Europe</th>\n",
       "      <td>743147538</td>\n",
       "      <td>745792196</td>\n",
       "      <td>741535608</td>\n",
       "      <td>735613934</td>\n",
       "    </tr>\n",
       "    <tr>\n",
       "      <th>North America</th>\n",
       "      <td>600296136</td>\n",
       "      <td>594236593</td>\n",
       "      <td>570383850</td>\n",
       "      <td>542720651</td>\n",
       "    </tr>\n",
       "    <tr>\n",
       "      <th>South America</th>\n",
       "      <td>436816608</td>\n",
       "      <td>431530043</td>\n",
       "      <td>413134396</td>\n",
       "      <td>393078250</td>\n",
       "    </tr>\n",
       "    <tr>\n",
       "      <th>Oceania</th>\n",
       "      <td>45038554</td>\n",
       "      <td>43933426</td>\n",
       "      <td>40403283</td>\n",
       "      <td>37102764</td>\n",
       "    </tr>\n",
       "  </tbody>\n",
       "</table>\n",
       "</div>"
      ],
      "text/plain": [
       "               2022 Population  2020 Population  2015 Population  \\\n",
       "Continent                                                          \n",
       "Asia                4721383274       4663086535       4458250182   \n",
       "Africa              1426730932       1360671810       1201102442   \n",
       "Europe               743147538        745792196        741535608   \n",
       "North America        600296136        594236593        570383850   \n",
       "South America        436816608        431530043        413134396   \n",
       "Oceania               45038554         43933426         40403283   \n",
       "\n",
       "               2010 Population  \n",
       "Continent                       \n",
       "Asia                4220041327  \n",
       "Africa              1055228072  \n",
       "Europe               735613934  \n",
       "North America        542720651  \n",
       "South America        393078250  \n",
       "Oceania               37102764  "
      ]
     },
     "execution_count": 81,
     "metadata": {},
     "output_type": "execute_result"
    }
   ],
   "source": [
    "total = df.groupby(['Continent'])[['2022 Population','2020 Population','2015 Population','2010 Population']].sum().sort_values(by='2022 Population', ascending=False)\n",
    "total"
   ]
  },
  {
   "cell_type": "code",
   "execution_count": 5,
   "id": "91cce580",
   "metadata": {},
   "outputs": [],
   "source": []
  },
  {
   "cell_type": "code",
   "execution_count": 6,
   "id": "7ce808e5",
   "metadata": {},
   "outputs": [],
   "source": []
  },
  {
   "cell_type": "code",
   "execution_count": 7,
   "id": "6bf049f7",
   "metadata": {},
   "outputs": [],
   "source": []
  },
  {
   "cell_type": "code",
   "execution_count": 8,
   "id": "a80c8950",
   "metadata": {},
   "outputs": [],
   "source": []
  },
  {
   "cell_type": "code",
   "execution_count": 9,
   "id": "9b65e87d",
   "metadata": {},
   "outputs": [],
   "source": []
  },
  {
   "cell_type": "code",
   "execution_count": 10,
   "id": "cf2f5b27",
   "metadata": {},
   "outputs": [],
   "source": []
  },
  {
   "cell_type": "code",
   "execution_count": 11,
   "id": "34471c5f",
   "metadata": {},
   "outputs": [],
   "source": []
  },
  {
   "cell_type": "code",
   "execution_count": 12,
   "id": "d44108bd",
   "metadata": {},
   "outputs": [],
   "source": []
  }
 ],
 "metadata": {
  "kernelspec": {
   "display_name": "Python 3 (ipykernel)",
   "language": "python",
   "name": "python3"
  },
  "language_info": {
   "codemirror_mode": {
    "name": "ipython",
    "version": 3
   },
   "file_extension": ".py",
   "mimetype": "text/x-python",
   "name": "python",
   "nbconvert_exporter": "python",
   "pygments_lexer": "ipython3",
   "version": "3.9.15"
  }
 },
 "nbformat": 4,
 "nbformat_minor": 5
}
