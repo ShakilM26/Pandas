{
 "cells": [
  {
   "cell_type": "markdown",
   "id": "ff1384e9",
   "metadata": {},
   "source": [
    "### Data Aggregation"
   ]
  },
  {
   "cell_type": "markdown",
   "id": "b02c96f9",
   "metadata": {},
   "source": [
    "* data must be available or converted to a dataframe to apply the aggregation function"
   ]
  },
  {
   "cell_type": "code",
   "execution_count": 3,
   "id": "c82c3882",
   "metadata": {},
   "outputs": [],
   "source": [
    "import pandas as pd\n",
    "import numpy as np"
   ]
  },
  {
   "cell_type": "code",
   "execution_count": 5,
   "id": "26847658",
   "metadata": {},
   "outputs": [
    {
     "data": {
      "text/html": [
       "<div>\n",
       "<style scoped>\n",
       "    .dataframe tbody tr th:only-of-type {\n",
       "        vertical-align: middle;\n",
       "    }\n",
       "\n",
       "    .dataframe tbody tr th {\n",
       "        vertical-align: top;\n",
       "    }\n",
       "\n",
       "    .dataframe thead th {\n",
       "        text-align: right;\n",
       "    }\n",
       "</style>\n",
       "<table border=\"1\" class=\"dataframe\">\n",
       "  <thead>\n",
       "    <tr style=\"text-align: right;\">\n",
       "      <th></th>\n",
       "      <th>A</th>\n",
       "      <th>B</th>\n",
       "      <th>C</th>\n",
       "      <th>D</th>\n",
       "    </tr>\n",
       "  </thead>\n",
       "  <tbody>\n",
       "    <tr>\n",
       "      <th>2020-10-01</th>\n",
       "      <td>1.559378</td>\n",
       "      <td>-0.573997</td>\n",
       "      <td>0.900591</td>\n",
       "      <td>-0.468328</td>\n",
       "    </tr>\n",
       "    <tr>\n",
       "      <th>2020-10-02</th>\n",
       "      <td>2.103198</td>\n",
       "      <td>-1.599105</td>\n",
       "      <td>-0.323621</td>\n",
       "      <td>0.262281</td>\n",
       "    </tr>\n",
       "    <tr>\n",
       "      <th>2020-10-03</th>\n",
       "      <td>-1.554758</td>\n",
       "      <td>-0.540605</td>\n",
       "      <td>-0.095287</td>\n",
       "      <td>1.456846</td>\n",
       "    </tr>\n",
       "    <tr>\n",
       "      <th>2020-10-04</th>\n",
       "      <td>-0.108316</td>\n",
       "      <td>0.149212</td>\n",
       "      <td>0.726945</td>\n",
       "      <td>-0.283276</td>\n",
       "    </tr>\n",
       "    <tr>\n",
       "      <th>2020-10-05</th>\n",
       "      <td>0.089597</td>\n",
       "      <td>-0.468089</td>\n",
       "      <td>0.744618</td>\n",
       "      <td>-0.225871</td>\n",
       "    </tr>\n",
       "    <tr>\n",
       "      <th>2020-10-06</th>\n",
       "      <td>0.980943</td>\n",
       "      <td>0.122534</td>\n",
       "      <td>-0.944628</td>\n",
       "      <td>-0.321029</td>\n",
       "    </tr>\n",
       "    <tr>\n",
       "      <th>2020-10-07</th>\n",
       "      <td>1.635081</td>\n",
       "      <td>0.614773</td>\n",
       "      <td>0.495163</td>\n",
       "      <td>0.159827</td>\n",
       "    </tr>\n",
       "    <tr>\n",
       "      <th>2020-10-08</th>\n",
       "      <td>0.862463</td>\n",
       "      <td>0.323095</td>\n",
       "      <td>2.267512</td>\n",
       "      <td>-0.989148</td>\n",
       "    </tr>\n",
       "    <tr>\n",
       "      <th>2020-10-09</th>\n",
       "      <td>0.933601</td>\n",
       "      <td>-1.277404</td>\n",
       "      <td>0.549069</td>\n",
       "      <td>-1.123676</td>\n",
       "    </tr>\n",
       "    <tr>\n",
       "      <th>2020-10-10</th>\n",
       "      <td>0.022127</td>\n",
       "      <td>-0.385400</td>\n",
       "      <td>-0.203843</td>\n",
       "      <td>-0.460540</td>\n",
       "    </tr>\n",
       "  </tbody>\n",
       "</table>\n",
       "</div>"
      ],
      "text/plain": [
       "                   A         B         C         D\n",
       "2020-10-01  1.559378 -0.573997  0.900591 -0.468328\n",
       "2020-10-02  2.103198 -1.599105 -0.323621  0.262281\n",
       "2020-10-03 -1.554758 -0.540605 -0.095287  1.456846\n",
       "2020-10-04 -0.108316  0.149212  0.726945 -0.283276\n",
       "2020-10-05  0.089597 -0.468089  0.744618 -0.225871\n",
       "2020-10-06  0.980943  0.122534 -0.944628 -0.321029\n",
       "2020-10-07  1.635081  0.614773  0.495163  0.159827\n",
       "2020-10-08  0.862463  0.323095  2.267512 -0.989148\n",
       "2020-10-09  0.933601 -1.277404  0.549069 -1.123676\n",
       "2020-10-10  0.022127 -0.385400 -0.203843 -0.460540"
      ]
     },
     "execution_count": 5,
     "metadata": {},
     "output_type": "execute_result"
    }
   ],
   "source": [
    "df = pd.DataFrame(np.random.randn(10,4),\n",
    "                 index=pd.date_range('10/01/2020', periods=10),\n",
    "                 columns = ['A','B','C','D'])\n",
    "df"
   ]
  },
  {
   "cell_type": "code",
   "execution_count": 9,
   "id": "60241753",
   "metadata": {},
   "outputs": [
    {
     "data": {
      "text/plain": [
       "Rolling [window=3,min_periods=1,center=False,axis=0,method=single]"
      ]
     },
     "execution_count": 9,
     "metadata": {},
     "output_type": "execute_result"
    }
   ],
   "source": [
    "agg = df.rolling(window=3, min_periods=1)\n",
    "agg"
   ]
  },
  {
   "cell_type": "code",
   "execution_count": 10,
   "id": "4a1c5d6e",
   "metadata": {},
   "outputs": [
    {
     "name": "stdout",
     "output_type": "stream",
     "text": [
      "                   A         B         C         D\n",
      "2020-10-01  1.559378 -0.573997  0.900591 -0.468328\n",
      "2020-10-02  3.662577 -2.173102  0.576970 -0.206047\n",
      "2020-10-03  2.107819 -2.713706  0.481684  1.250799\n",
      "2020-10-04  0.440124 -1.990497  0.308037  1.435851\n",
      "2020-10-05 -1.573478 -0.859482  1.376277  0.947699\n",
      "2020-10-06  0.962224 -0.196343  0.526935 -0.830175\n",
      "2020-10-07  2.705621  0.269218  0.295154 -0.387073\n",
      "2020-10-08  3.478488  1.060402  1.818048 -1.150350\n",
      "2020-10-09  3.431145 -0.339536  3.311745 -1.952998\n",
      "2020-10-10  1.818191 -1.339709  2.612738 -2.573365\n"
     ]
    }
   ],
   "source": [
    "# apply aggregation to whole dataframe \n",
    "\n",
    "print(agg.aggregate(np.sum))"
   ]
  },
  {
   "cell_type": "code",
   "execution_count": 11,
   "id": "36d505c1",
   "metadata": {},
   "outputs": [
    {
     "name": "stdout",
     "output_type": "stream",
     "text": [
      "2020-10-01   -0.573997\n",
      "2020-10-02   -2.173102\n",
      "2020-10-03   -2.713706\n",
      "2020-10-04   -1.990497\n",
      "2020-10-05   -0.859482\n",
      "2020-10-06   -0.196343\n",
      "2020-10-07    0.269218\n",
      "2020-10-08    1.060402\n",
      "2020-10-09   -0.339536\n",
      "2020-10-10   -1.339709\n",
      "Freq: D, Name: B, dtype: float64\n"
     ]
    }
   ],
   "source": [
    "# apply aggregation to a column\n",
    "\n",
    "print(agg['B'].aggregate(np.sum))"
   ]
  },
  {
   "cell_type": "markdown",
   "id": "b96eb166",
   "metadata": {},
   "source": [
    "## also aggregation function can apply to multiple columns"
   ]
  },
  {
   "cell_type": "code",
   "execution_count": null,
   "id": "bc0b6ed3",
   "metadata": {},
   "outputs": [],
   "source": []
  },
  {
   "cell_type": "markdown",
   "id": "e01ac4e1",
   "metadata": {},
   "source": [
    "* Another Example"
   ]
  },
  {
   "cell_type": "code",
   "execution_count": 12,
   "id": "e7cb44d8",
   "metadata": {},
   "outputs": [
    {
     "data": {
      "text/html": [
       "<div>\n",
       "<style scoped>\n",
       "    .dataframe tbody tr th:only-of-type {\n",
       "        vertical-align: middle;\n",
       "    }\n",
       "\n",
       "    .dataframe tbody tr th {\n",
       "        vertical-align: top;\n",
       "    }\n",
       "\n",
       "    .dataframe thead th {\n",
       "        text-align: right;\n",
       "    }\n",
       "</style>\n",
       "<table border=\"1\" class=\"dataframe\">\n",
       "  <thead>\n",
       "    <tr style=\"text-align: right;\">\n",
       "      <th></th>\n",
       "      <th>names</th>\n",
       "      <th>algorithm</th>\n",
       "      <th>database</th>\n",
       "      <th>os</th>\n",
       "    </tr>\n",
       "  </thead>\n",
       "  <tbody>\n",
       "    <tr>\n",
       "      <th>0</th>\n",
       "      <td>shakil</td>\n",
       "      <td>78</td>\n",
       "      <td>92</td>\n",
       "      <td>84</td>\n",
       "    </tr>\n",
       "    <tr>\n",
       "      <th>1</th>\n",
       "      <td>chamiya</td>\n",
       "      <td>89</td>\n",
       "      <td>85</td>\n",
       "      <td>84</td>\n",
       "    </tr>\n",
       "    <tr>\n",
       "      <th>2</th>\n",
       "      <td>walid</td>\n",
       "      <td>90</td>\n",
       "      <td>86</td>\n",
       "      <td>80</td>\n",
       "    </tr>\n",
       "    <tr>\n",
       "      <th>3</th>\n",
       "      <td>tithi</td>\n",
       "      <td>85</td>\n",
       "      <td>80</td>\n",
       "      <td>79</td>\n",
       "    </tr>\n",
       "    <tr>\n",
       "      <th>4</th>\n",
       "      <td>peter</td>\n",
       "      <td>80</td>\n",
       "      <td>89</td>\n",
       "      <td>86</td>\n",
       "    </tr>\n",
       "    <tr>\n",
       "      <th>5</th>\n",
       "      <td>sofia</td>\n",
       "      <td>82</td>\n",
       "      <td>81</td>\n",
       "      <td>85</td>\n",
       "    </tr>\n",
       "  </tbody>\n",
       "</table>\n",
       "</div>"
      ],
      "text/plain": [
       "     names  algorithm  database  os\n",
       "0   shakil         78        92  84\n",
       "1  chamiya         89        85  84\n",
       "2    walid         90        86  80\n",
       "3    tithi         85        80  79\n",
       "4    peter         80        89  86\n",
       "5    sofia         82        81  85"
      ]
     },
     "execution_count": 12,
     "metadata": {},
     "output_type": "execute_result"
    }
   ],
   "source": [
    "marks_df = pd.DataFrame({'names':['shakil','chamiya','walid','tithi','peter','sofia'],\n",
    "                  'algorithm':[78,89,90,85,80,82],\n",
    "                        'database':[92,85,86,80,89,81],\n",
    "                        'os':[84,84,80,79,86,85]})\n",
    "marks_df"
   ]
  },
  {
   "cell_type": "code",
   "execution_count": 15,
   "id": "c21af14b",
   "metadata": {},
   "outputs": [
    {
     "data": {
      "text/plain": [
       "Rolling [window=3,min_periods=1,center=False,axis=0,method=single]"
      ]
     },
     "execution_count": 15,
     "metadata": {},
     "output_type": "execute_result"
    }
   ],
   "source": [
    "r = marks_df.rolling(window=3, min_periods=1)\n",
    "r"
   ]
  },
  {
   "cell_type": "code",
   "execution_count": 18,
   "id": "d7ef1cb2",
   "metadata": {},
   "outputs": [
    {
     "name": "stderr",
     "output_type": "stream",
     "text": [
      "C:\\Users\\Shakil\\AppData\\Local\\Temp\\ipykernel_3996\\2766417324.py:3: FutureWarning: Dropping of nuisance columns in rolling operations is deprecated; in a future version this will raise TypeError. Select only valid columns before calling the operation. Dropped columns were Index(['names'], dtype='object')\n",
      "  r.agg(np.sum)\n"
     ]
    },
    {
     "data": {
      "text/html": [
       "<div>\n",
       "<style scoped>\n",
       "    .dataframe tbody tr th:only-of-type {\n",
       "        vertical-align: middle;\n",
       "    }\n",
       "\n",
       "    .dataframe tbody tr th {\n",
       "        vertical-align: top;\n",
       "    }\n",
       "\n",
       "    .dataframe thead th {\n",
       "        text-align: right;\n",
       "    }\n",
       "</style>\n",
       "<table border=\"1\" class=\"dataframe\">\n",
       "  <thead>\n",
       "    <tr style=\"text-align: right;\">\n",
       "      <th></th>\n",
       "      <th>algorithm</th>\n",
       "      <th>database</th>\n",
       "      <th>os</th>\n",
       "    </tr>\n",
       "  </thead>\n",
       "  <tbody>\n",
       "    <tr>\n",
       "      <th>0</th>\n",
       "      <td>78.0</td>\n",
       "      <td>92.0</td>\n",
       "      <td>84.0</td>\n",
       "    </tr>\n",
       "    <tr>\n",
       "      <th>1</th>\n",
       "      <td>167.0</td>\n",
       "      <td>177.0</td>\n",
       "      <td>168.0</td>\n",
       "    </tr>\n",
       "    <tr>\n",
       "      <th>2</th>\n",
       "      <td>257.0</td>\n",
       "      <td>263.0</td>\n",
       "      <td>248.0</td>\n",
       "    </tr>\n",
       "    <tr>\n",
       "      <th>3</th>\n",
       "      <td>264.0</td>\n",
       "      <td>251.0</td>\n",
       "      <td>243.0</td>\n",
       "    </tr>\n",
       "    <tr>\n",
       "      <th>4</th>\n",
       "      <td>255.0</td>\n",
       "      <td>255.0</td>\n",
       "      <td>245.0</td>\n",
       "    </tr>\n",
       "    <tr>\n",
       "      <th>5</th>\n",
       "      <td>247.0</td>\n",
       "      <td>250.0</td>\n",
       "      <td>250.0</td>\n",
       "    </tr>\n",
       "  </tbody>\n",
       "</table>\n",
       "</div>"
      ],
      "text/plain": [
       "   algorithm  database     os\n",
       "0       78.0      92.0   84.0\n",
       "1      167.0     177.0  168.0\n",
       "2      257.0     263.0  248.0\n",
       "3      264.0     251.0  243.0\n",
       "4      255.0     255.0  245.0\n",
       "5      247.0     250.0  250.0"
      ]
     },
     "execution_count": 18,
     "metadata": {},
     "output_type": "execute_result"
    }
   ],
   "source": [
    "# apply to whole dataframe\n",
    "\n",
    "r.agg(np.sum)"
   ]
  },
  {
   "cell_type": "code",
   "execution_count": 20,
   "id": "429a3893",
   "metadata": {},
   "outputs": [
    {
     "data": {
      "text/html": [
       "<div>\n",
       "<style scoped>\n",
       "    .dataframe tbody tr th:only-of-type {\n",
       "        vertical-align: middle;\n",
       "    }\n",
       "\n",
       "    .dataframe tbody tr th {\n",
       "        vertical-align: top;\n",
       "    }\n",
       "\n",
       "    .dataframe thead th {\n",
       "        text-align: right;\n",
       "    }\n",
       "</style>\n",
       "<table border=\"1\" class=\"dataframe\">\n",
       "  <thead>\n",
       "    <tr style=\"text-align: right;\">\n",
       "      <th></th>\n",
       "      <th>algorithm</th>\n",
       "      <th>database</th>\n",
       "    </tr>\n",
       "  </thead>\n",
       "  <tbody>\n",
       "    <tr>\n",
       "      <th>0</th>\n",
       "      <td>78.0</td>\n",
       "      <td>92.0</td>\n",
       "    </tr>\n",
       "    <tr>\n",
       "      <th>1</th>\n",
       "      <td>167.0</td>\n",
       "      <td>177.0</td>\n",
       "    </tr>\n",
       "    <tr>\n",
       "      <th>2</th>\n",
       "      <td>257.0</td>\n",
       "      <td>263.0</td>\n",
       "    </tr>\n",
       "    <tr>\n",
       "      <th>3</th>\n",
       "      <td>264.0</td>\n",
       "      <td>251.0</td>\n",
       "    </tr>\n",
       "    <tr>\n",
       "      <th>4</th>\n",
       "      <td>255.0</td>\n",
       "      <td>255.0</td>\n",
       "    </tr>\n",
       "    <tr>\n",
       "      <th>5</th>\n",
       "      <td>247.0</td>\n",
       "      <td>250.0</td>\n",
       "    </tr>\n",
       "  </tbody>\n",
       "</table>\n",
       "</div>"
      ],
      "text/plain": [
       "   algorithm  database\n",
       "0       78.0      92.0\n",
       "1      167.0     177.0\n",
       "2      257.0     263.0\n",
       "3      264.0     251.0\n",
       "4      255.0     255.0\n",
       "5      247.0     250.0"
      ]
     },
     "execution_count": 20,
     "metadata": {},
     "output_type": "execute_result"
    }
   ],
   "source": [
    "# apply to multiple columns\n",
    "\n",
    "r[['algorithm','database']].agg(np.sum)"
   ]
  },
  {
   "cell_type": "code",
   "execution_count": null,
   "id": "ed00c3be",
   "metadata": {},
   "outputs": [],
   "source": []
  }
 ],
 "metadata": {
  "kernelspec": {
   "display_name": "Python 3 (ipykernel)",
   "language": "python",
   "name": "python3"
  },
  "language_info": {
   "codemirror_mode": {
    "name": "ipython",
    "version": 3
   },
   "file_extension": ".py",
   "mimetype": "text/x-python",
   "name": "python",
   "nbconvert_exporter": "python",
   "pygments_lexer": "ipython3",
   "version": "3.9.13"
  }
 },
 "nbformat": 4,
 "nbformat_minor": 5
}
