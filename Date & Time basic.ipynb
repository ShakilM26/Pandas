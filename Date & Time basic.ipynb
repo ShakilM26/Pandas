{
 "cells": [
  {
   "cell_type": "code",
   "execution_count": 1,
   "id": "e3e63ba4",
   "metadata": {},
   "outputs": [
    {
     "name": "stdout",
     "output_type": "stream",
     "text": [
      "Today is:  2023-02-08 18:46:53.297777\n"
     ]
    }
   ],
   "source": [
    "import datetime\n",
    "\n",
    "print('Today is: ', datetime.datetime.today())"
   ]
  },
  {
   "cell_type": "markdown",
   "id": "28782f93",
   "metadata": {},
   "source": [
    "#### Represent datetime"
   ]
  },
  {
   "cell_type": "code",
   "execution_count": 2,
   "id": "05fc9d5c",
   "metadata": {},
   "outputs": [
    {
     "data": {
      "text/plain": [
       "'Wednesday'"
      ]
     },
     "execution_count": 2,
     "metadata": {},
     "output_type": "execute_result"
    }
   ],
   "source": [
    "today = datetime.datetime.today()\n",
    "\n",
    "# year\n",
    "year = today.year\n",
    "year\n",
    "\n",
    "# no of the month \n",
    "month = today.month\n",
    "month\n",
    "\n",
    "# name of the month\n",
    "month_name = today.strftime('%B')\n",
    "month_name\n",
    "\n",
    "# day no of the week\n",
    "day = today.day\n",
    "day\n",
    "\n",
    "# name of the day\n",
    "day_name = today.strftime('%A')\n",
    "day_name"
   ]
  },
  {
   "cell_type": "code",
   "execution_count": null,
   "id": "01464161",
   "metadata": {},
   "outputs": [],
   "source": []
  },
  {
   "cell_type": "markdown",
   "id": "58d7de08",
   "metadata": {},
   "source": [
    "### Arithmetic datetime"
   ]
  },
  {
   "cell_type": "code",
   "execution_count": 3,
   "id": "d7928988",
   "metadata": {},
   "outputs": [
    {
     "name": "stdout",
     "output_type": "stream",
     "text": [
      "Number of days: 40 days, 0:00:00\n"
     ]
    }
   ],
   "source": [
    "import datetime as dt\n",
    "\n",
    "date = dt.date(2023,1,1)\n",
    "date2 = dt.date(2023,2,10)\n",
    "\n",
    "print('Number of days:', date2 - date)"
   ]
  },
  {
   "cell_type": "code",
   "execution_count": 4,
   "id": "92f34930",
   "metadata": {},
   "outputs": [
    {
     "name": "stdout",
     "output_type": "stream",
     "text": [
      "2023-02-04 18:47:03.624948\n"
     ]
    }
   ],
   "source": [
    "today = dt.datetime.today()\n",
    "\n",
    "days = dt.timedelta(days=4)\n",
    "\n",
    "before_4_days = today - days \n",
    "print(before_4_days)"
   ]
  },
  {
   "cell_type": "code",
   "execution_count": 5,
   "id": "bd39f161",
   "metadata": {},
   "outputs": [
    {
     "name": "stdout",
     "output_type": "stream",
     "text": [
      "2023-02-12 18:47:03.624948\n"
     ]
    }
   ],
   "source": [
    "after_4_days = days + today\n",
    "print(after_4_days)"
   ]
  },
  {
   "cell_type": "code",
   "execution_count": null,
   "id": "8f1ea1c2",
   "metadata": {},
   "outputs": [],
   "source": []
  },
  {
   "cell_type": "code",
   "execution_count": null,
   "id": "18e14767",
   "metadata": {},
   "outputs": [],
   "source": []
  }
 ],
 "metadata": {
  "kernelspec": {
   "display_name": "Python 3 (ipykernel)",
   "language": "python",
   "name": "python3"
  },
  "language_info": {
   "codemirror_mode": {
    "name": "ipython",
    "version": 3
   },
   "file_extension": ".py",
   "mimetype": "text/x-python",
   "name": "python",
   "nbconvert_exporter": "python",
   "pygments_lexer": "ipython3",
   "version": "3.9.13"
  }
 },
 "nbformat": 4,
 "nbformat_minor": 5
}
