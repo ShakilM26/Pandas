{
 "cells": [
  {
   "cell_type": "code",
   "execution_count": 42,
   "id": "8e047f87",
   "metadata": {},
   "outputs": [],
   "source": [
    "import pandas as pd\n",
    "import regex as re"
   ]
  },
  {
   "cell_type": "markdown",
   "id": "f1ceede9",
   "metadata": {},
   "source": [
    "##### This lesson learning from Giorgos Myrianthous's Blog (Towards Data Science)"
   ]
  },
  {
   "cell_type": "code",
   "execution_count": 43,
   "id": "5f76e914",
   "metadata": {},
   "outputs": [],
   "source": [
    "df = pd.DataFrame({'names':['Shakil', 'Almirr', 'Chamiya', 'Erin', 'Zainab', 'Zakir'],\n",
    "                  'rank':[1,2,3,4,6,5],\n",
    "                  'age':[25,25,22,24,26,27],\n",
    "                  'info':['Data Nerd!?.', 'Invisible @Superhero', 'my sassy girl~',\n",
    "                         'my foreign..', 'Nope?', 'Friend.']})"
   ]
  },
  {
   "cell_type": "markdown",
   "id": "0fd9ad38",
   "metadata": {},
   "source": [
    "### First Method"
   ]
  },
  {
   "cell_type": "code",
   "execution_count": 15,
   "id": "a2b65f44",
   "metadata": {},
   "outputs": [
    {
     "name": "stderr",
     "output_type": "stream",
     "text": [
      "C:\\Users\\Shakil\\AppData\\Local\\Temp\\ipykernel_6856\\92072093.py:1: FutureWarning: The default value of regex will change from True to False in a future version.\n",
      "  df['info'] = df['info'].str.replace(r'[^\\w\\s]+', '')\n"
     ]
    }
   ],
   "source": [
    "df['info'] = df['info'].str.replace(r'[^\\w\\s]+', '')"
   ]
  },
  {
   "cell_type": "code",
   "execution_count": 30,
   "id": "e083d78a",
   "metadata": {},
   "outputs": [],
   "source": [
    "df['info'] = [re.sub('[^\\w\\s]+', '', s) for s in df['info']]\n",
    "# df['info'] = [re.sub('[^\\w\\s]+', '', s) for s in df['info'].to_list()]"
   ]
  },
  {
   "cell_type": "code",
   "execution_count": 31,
   "id": "84ee13be",
   "metadata": {},
   "outputs": [
    {
     "data": {
      "text/html": [
       "<div>\n",
       "<style scoped>\n",
       "    .dataframe tbody tr th:only-of-type {\n",
       "        vertical-align: middle;\n",
       "    }\n",
       "\n",
       "    .dataframe tbody tr th {\n",
       "        vertical-align: top;\n",
       "    }\n",
       "\n",
       "    .dataframe thead th {\n",
       "        text-align: right;\n",
       "    }\n",
       "</style>\n",
       "<table border=\"1\" class=\"dataframe\">\n",
       "  <thead>\n",
       "    <tr style=\"text-align: right;\">\n",
       "      <th></th>\n",
       "      <th>names</th>\n",
       "      <th>rank</th>\n",
       "      <th>age</th>\n",
       "      <th>info</th>\n",
       "    </tr>\n",
       "  </thead>\n",
       "  <tbody>\n",
       "    <tr>\n",
       "      <th>0</th>\n",
       "      <td>Shakil</td>\n",
       "      <td>1</td>\n",
       "      <td>25</td>\n",
       "      <td>Data Nerd</td>\n",
       "    </tr>\n",
       "    <tr>\n",
       "      <th>1</th>\n",
       "      <td>Almirr</td>\n",
       "      <td>2</td>\n",
       "      <td>25</td>\n",
       "      <td>Invisible Superhero</td>\n",
       "    </tr>\n",
       "    <tr>\n",
       "      <th>2</th>\n",
       "      <td>Chamiya</td>\n",
       "      <td>3</td>\n",
       "      <td>22</td>\n",
       "      <td>my sassy girl</td>\n",
       "    </tr>\n",
       "    <tr>\n",
       "      <th>3</th>\n",
       "      <td>Erin</td>\n",
       "      <td>4</td>\n",
       "      <td>24</td>\n",
       "      <td>my foreign</td>\n",
       "    </tr>\n",
       "    <tr>\n",
       "      <th>4</th>\n",
       "      <td>Zainab</td>\n",
       "      <td>6</td>\n",
       "      <td>26</td>\n",
       "      <td>Nope</td>\n",
       "    </tr>\n",
       "    <tr>\n",
       "      <th>5</th>\n",
       "      <td>Zakir</td>\n",
       "      <td>5</td>\n",
       "      <td>27</td>\n",
       "      <td>Friend</td>\n",
       "    </tr>\n",
       "  </tbody>\n",
       "</table>\n",
       "</div>"
      ],
      "text/plain": [
       "     names  rank  age                 info\n",
       "0   Shakil     1   25            Data Nerd\n",
       "1   Almirr     2   25  Invisible Superhero\n",
       "2  Chamiya     3   22        my sassy girl\n",
       "3     Erin     4   24           my foreign\n",
       "4   Zainab     6   26                 Nope\n",
       "5    Zakir     5   27               Friend"
      ]
     },
     "execution_count": 31,
     "metadata": {},
     "output_type": "execute_result"
    }
   ],
   "source": [
    "df"
   ]
  },
  {
   "cell_type": "code",
   "execution_count": null,
   "id": "410bee2e",
   "metadata": {},
   "outputs": [],
   "source": []
  },
  {
   "cell_type": "markdown",
   "id": "f6141e4a",
   "metadata": {},
   "source": [
    "### Second Method"
   ]
  },
  {
   "cell_type": "code",
   "execution_count": 32,
   "id": "2ab15398",
   "metadata": {},
   "outputs": [],
   "source": [
    "# Note also that it may sometimes be more efficient to \n",
    "# first compile the regular expression prior to the substitution."
   ]
  },
  {
   "cell_type": "code",
   "execution_count": 44,
   "id": "ff4489f5",
   "metadata": {},
   "outputs": [],
   "source": [
    "r = re.compile(r'[^\\w\\s]+')\n",
    "df['info'] = [r.sub('', s) for s in df['info'].tolist()]"
   ]
  },
  {
   "cell_type": "code",
   "execution_count": 45,
   "id": "3cef59f9",
   "metadata": {},
   "outputs": [
    {
     "data": {
      "text/html": [
       "<div>\n",
       "<style scoped>\n",
       "    .dataframe tbody tr th:only-of-type {\n",
       "        vertical-align: middle;\n",
       "    }\n",
       "\n",
       "    .dataframe tbody tr th {\n",
       "        vertical-align: top;\n",
       "    }\n",
       "\n",
       "    .dataframe thead th {\n",
       "        text-align: right;\n",
       "    }\n",
       "</style>\n",
       "<table border=\"1\" class=\"dataframe\">\n",
       "  <thead>\n",
       "    <tr style=\"text-align: right;\">\n",
       "      <th></th>\n",
       "      <th>names</th>\n",
       "      <th>rank</th>\n",
       "      <th>age</th>\n",
       "      <th>info</th>\n",
       "    </tr>\n",
       "  </thead>\n",
       "  <tbody>\n",
       "    <tr>\n",
       "      <th>0</th>\n",
       "      <td>Shakil</td>\n",
       "      <td>1</td>\n",
       "      <td>25</td>\n",
       "      <td>Data Nerd</td>\n",
       "    </tr>\n",
       "    <tr>\n",
       "      <th>1</th>\n",
       "      <td>Almirr</td>\n",
       "      <td>2</td>\n",
       "      <td>25</td>\n",
       "      <td>Invisible Superhero</td>\n",
       "    </tr>\n",
       "    <tr>\n",
       "      <th>2</th>\n",
       "      <td>Chamiya</td>\n",
       "      <td>3</td>\n",
       "      <td>22</td>\n",
       "      <td>my sassy girl</td>\n",
       "    </tr>\n",
       "    <tr>\n",
       "      <th>3</th>\n",
       "      <td>Erin</td>\n",
       "      <td>4</td>\n",
       "      <td>24</td>\n",
       "      <td>my foreign</td>\n",
       "    </tr>\n",
       "    <tr>\n",
       "      <th>4</th>\n",
       "      <td>Zainab</td>\n",
       "      <td>6</td>\n",
       "      <td>26</td>\n",
       "      <td>Nope</td>\n",
       "    </tr>\n",
       "    <tr>\n",
       "      <th>5</th>\n",
       "      <td>Zakir</td>\n",
       "      <td>5</td>\n",
       "      <td>27</td>\n",
       "      <td>Friend</td>\n",
       "    </tr>\n",
       "  </tbody>\n",
       "</table>\n",
       "</div>"
      ],
      "text/plain": [
       "     names  rank  age                 info\n",
       "0   Shakil     1   25            Data Nerd\n",
       "1   Almirr     2   25  Invisible Superhero\n",
       "2  Chamiya     3   22        my sassy girl\n",
       "3     Erin     4   24           my foreign\n",
       "4   Zainab     6   26                 Nope\n",
       "5    Zakir     5   27               Friend"
      ]
     },
     "execution_count": 45,
     "metadata": {},
     "output_type": "execute_result"
    }
   ],
   "source": [
    "df"
   ]
  },
  {
   "cell_type": "code",
   "execution_count": null,
   "id": "d7ade375",
   "metadata": {},
   "outputs": [],
   "source": []
  },
  {
   "cell_type": "markdown",
   "id": "2ecefaba",
   "metadata": {},
   "source": [
    "### Third Method"
   ]
  },
  {
   "cell_type": "code",
   "execution_count": null,
   "id": "08c207df",
   "metadata": {},
   "outputs": [],
   "source": []
  },
  {
   "cell_type": "code",
   "execution_count": 38,
   "id": "943943d4",
   "metadata": {},
   "outputs": [],
   "source": [
    "sep = '|'\n",
    "punctuation_chars = '!\"#$%&\\'()*+,-./:;<=>?@[\\\\]^_`{}~'"
   ]
  },
  {
   "cell_type": "code",
   "execution_count": 39,
   "id": "c1bbb95d",
   "metadata": {},
   "outputs": [],
   "source": [
    "mapping_table = str.maketrans(dict.fromkeys(punctuation_chars,''))"
   ]
  },
  {
   "cell_type": "code",
   "execution_count": 40,
   "id": "6191f215",
   "metadata": {},
   "outputs": [],
   "source": [
    "df['info'] = sep.join(df['info'].tolist()).translate(mapping_table).split(sep)"
   ]
  },
  {
   "cell_type": "code",
   "execution_count": 41,
   "id": "0c0479a1",
   "metadata": {},
   "outputs": [
    {
     "data": {
      "text/html": [
       "<div>\n",
       "<style scoped>\n",
       "    .dataframe tbody tr th:only-of-type {\n",
       "        vertical-align: middle;\n",
       "    }\n",
       "\n",
       "    .dataframe tbody tr th {\n",
       "        vertical-align: top;\n",
       "    }\n",
       "\n",
       "    .dataframe thead th {\n",
       "        text-align: right;\n",
       "    }\n",
       "</style>\n",
       "<table border=\"1\" class=\"dataframe\">\n",
       "  <thead>\n",
       "    <tr style=\"text-align: right;\">\n",
       "      <th></th>\n",
       "      <th>names</th>\n",
       "      <th>rank</th>\n",
       "      <th>age</th>\n",
       "      <th>info</th>\n",
       "    </tr>\n",
       "  </thead>\n",
       "  <tbody>\n",
       "    <tr>\n",
       "      <th>0</th>\n",
       "      <td>Shakil</td>\n",
       "      <td>1</td>\n",
       "      <td>25</td>\n",
       "      <td>Data Nerd</td>\n",
       "    </tr>\n",
       "    <tr>\n",
       "      <th>1</th>\n",
       "      <td>Almirr</td>\n",
       "      <td>2</td>\n",
       "      <td>25</td>\n",
       "      <td>Invisible Superhero</td>\n",
       "    </tr>\n",
       "    <tr>\n",
       "      <th>2</th>\n",
       "      <td>Chamiya</td>\n",
       "      <td>3</td>\n",
       "      <td>22</td>\n",
       "      <td>my sassy girl</td>\n",
       "    </tr>\n",
       "    <tr>\n",
       "      <th>3</th>\n",
       "      <td>Erin</td>\n",
       "      <td>4</td>\n",
       "      <td>24</td>\n",
       "      <td>my foreign</td>\n",
       "    </tr>\n",
       "    <tr>\n",
       "      <th>4</th>\n",
       "      <td>Zainab</td>\n",
       "      <td>6</td>\n",
       "      <td>26</td>\n",
       "      <td>Nope</td>\n",
       "    </tr>\n",
       "    <tr>\n",
       "      <th>5</th>\n",
       "      <td>Zakir</td>\n",
       "      <td>5</td>\n",
       "      <td>27</td>\n",
       "      <td>Friend</td>\n",
       "    </tr>\n",
       "  </tbody>\n",
       "</table>\n",
       "</div>"
      ],
      "text/plain": [
       "     names  rank  age                 info\n",
       "0   Shakil     1   25            Data Nerd\n",
       "1   Almirr     2   25  Invisible Superhero\n",
       "2  Chamiya     3   22        my sassy girl\n",
       "3     Erin     4   24           my foreign\n",
       "4   Zainab     6   26                 Nope\n",
       "5    Zakir     5   27               Friend"
      ]
     },
     "execution_count": 41,
     "metadata": {},
     "output_type": "execute_result"
    }
   ],
   "source": [
    "df"
   ]
  },
  {
   "cell_type": "code",
   "execution_count": null,
   "id": "4a13ac1f",
   "metadata": {},
   "outputs": [],
   "source": []
  }
 ],
 "metadata": {
  "kernelspec": {
   "display_name": "Python 3 (ipykernel)",
   "language": "python",
   "name": "python3"
  },
  "language_info": {
   "codemirror_mode": {
    "name": "ipython",
    "version": 3
   },
   "file_extension": ".py",
   "mimetype": "text/x-python",
   "name": "python",
   "nbconvert_exporter": "python",
   "pygments_lexer": "ipython3",
   "version": "3.9.15"
  }
 },
 "nbformat": 4,
 "nbformat_minor": 5
}
