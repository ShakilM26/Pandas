{
 "cells": [
  {
   "cell_type": "markdown",
   "id": "c975702c",
   "metadata": {},
   "source": [
    "* capitalize() - except first letter, all letters or words convert into lowercase"
   ]
  },
  {
   "cell_type": "markdown",
   "id": "b12aa12e",
   "metadata": {},
   "source": [
    "* casefold() - lower all letters or words"
   ]
  },
  {
   "cell_type": "code",
   "execution_count": 1,
   "id": "aa1232e7",
   "metadata": {},
   "outputs": [
    {
     "data": {
      "text/plain": [
       "3"
      ]
     },
     "execution_count": 1,
     "metadata": {},
     "output_type": "execute_result"
    }
   ],
   "source": [
    "# count() using to find occurrence of letter,word,phrase\n",
    "\n",
    "line = 'I am shakil and my company name the outfit'\n",
    "counts = line.count('a')\n",
    "counts\n",
    "\n",
    "word = line.count('a', 0, 15) # 0 - start # 15 - end \n",
    "word"
   ]
  },
  {
   "cell_type": "code",
   "execution_count": 2,
   "id": "6b04021d",
   "metadata": {},
   "outputs": [
    {
     "data": {
      "text/plain": [
       "b' The Batman '"
      ]
     },
     "execution_count": 2,
     "metadata": {},
     "output_type": "execute_result"
    }
   ],
   "source": [
    "# encode() used to encode the words or sentences for security of the msgs\n",
    "\n",
    "word = \" The Batman \"\n",
    "encoding = word.encode()\n",
    "encoding"
   ]
  },
  {
   "cell_type": "code",
   "execution_count": 3,
   "id": "42843e05",
   "metadata": {},
   "outputs": [
    {
     "data": {
      "text/plain": [
       "True"
      ]
     },
     "execution_count": 3,
     "metadata": {},
     "output_type": "execute_result"
    }
   ],
   "source": [
    "# endswith() - returns boolean value if suffix is matched or not\n",
    "\n",
    "result = line.endswith('fit')\n",
    "result"
   ]
  },
  {
   "cell_type": "markdown",
   "id": "d3659f1d",
   "metadata": {},
   "source": [
    "* expandtabs() - uses '\\t' character to give the space btwn the words"
   ]
  },
  {
   "cell_type": "markdown",
   "id": "a161b6b9",
   "metadata": {},
   "source": [
    "* find() - find the first occurrence of a letter or word"
   ]
  },
  {
   "cell_type": "code",
   "execution_count": 4,
   "id": "4da36419",
   "metadata": {},
   "outputs": [
    {
     "name": "stdout",
     "output_type": "stream",
     "text": [
      "I want to be a Superhero, mixed of Batman and Superman\n"
     ]
    }
   ],
   "source": [
    "# format()\n",
    "\n",
    "print(\"I want to be a {}, mixed of {} and {}\".format('Superhero','Batman','Superman'))\n"
   ]
  },
  {
   "cell_type": "code",
   "execution_count": 5,
   "id": "c12151d8",
   "metadata": {},
   "outputs": [
    {
     "name": "stdout",
     "output_type": "stream",
     "text": [
      "Hey Batman, I am Flash\n",
      "Hey Batman, I am Flash\n"
     ]
    }
   ],
   "source": [
    "# format map() - used to mapping the values\n",
    "\n",
    "dict1 = {'B':'Batman', 'F':'Flash'}\n",
    "print('Hey {B}, I am {F}'.format(**dict1))\n",
    "\n",
    "# using format_map()\n",
    "print('Hey {B}, I am {F}'.format_map(dict1))"
   ]
  },
  {
   "cell_type": "code",
   "execution_count": 6,
   "id": "cfa559fe",
   "metadata": {},
   "outputs": [
    {
     "name": "stdout",
     "output_type": "stream",
     "text": [
      "13\n"
     ]
    }
   ],
   "source": [
    "# index() - used to find the index of word or letter\n",
    "\n",
    "line = 'there was an idea'\n",
    "print(line.find('idea'))"
   ]
  },
  {
   "cell_type": "markdown",
   "id": "158298fd",
   "metadata": {},
   "source": [
    "* isalpha(), isalnum(), isdecimal(), isdigit(), islower(), isnumeric(),\n",
    "* isprintable(), isupper(), istitle() ...they returns boolean values"
   ]
  },
  {
   "cell_type": "code",
   "execution_count": 10,
   "id": "efd290f9",
   "metadata": {},
   "outputs": [
    {
     "name": "stdout",
     "output_type": "stream",
     "text": [
      "my favorite 4 fruits is: Mango Grape Apple Orange\n",
      "my favorite 4 fruits is: Mango, Grape, Apple, Orange\n"
     ]
    }
   ],
   "source": [
    "# join()\n",
    "\n",
    "list1 = ['Mango','Grape','Apple','Orange']\n",
    "print('my favorite 4 fruits is:', ' '.join(list1))\n",
    "\n",
    "print('my favorite 4 fruits is:', ', '.join(list1))"
   ]
  },
  {
   "cell_type": "code",
   "execution_count": 16,
   "id": "156c4621",
   "metadata": {},
   "outputs": [
    {
     "name": "stdout",
     "output_type": "stream",
     "text": [
      "happy\n",
      "pipasa\n"
     ]
    }
   ],
   "source": [
    "# lstrip()\n",
    "\n",
    "word = '   happy'\n",
    "print(word.lstrip())\n",
    "\n",
    "lines = '...,,xy...,,pipasa'\n",
    "print(lines.lstrip('.,xy'))"
   ]
  },
  {
   "cell_type": "code",
   "execution_count": 6,
   "id": "197fade8",
   "metadata": {},
   "outputs": [
    {
     "name": "stdout",
     "output_type": "stream",
     "text": [
      "('Learning 1% every day ', 'will', ' take you far.')\n"
     ]
    }
   ],
   "source": [
    "# partition() - separates the words into different tuples with sub-string\n",
    "\n",
    "sentence = 'Learning 1% every day will take you far.'\n",
    "print(sentence.partition('will'))\n",
    "\n",
    "# rpartition() almost same"
   ]
  },
  {
   "cell_type": "code",
   "execution_count": 2,
   "id": "dccffb13",
   "metadata": {},
   "outputs": [
    {
     "name": "stdout",
     "output_type": "stream",
     "text": [
      "'Steve','Stephen','Bruce','Tony'\n"
     ]
    }
   ],
   "source": [
    "# replace() - used for replace a word\n",
    "\n",
    "names = \"'Steve','Stephen','Bruce','Barry'\"\n",
    "print(names.replace('Barry', 'Tony'))"
   ]
  },
  {
   "cell_type": "code",
   "execution_count": 5,
   "id": "3fd00caa",
   "metadata": {},
   "outputs": [
    {
     "name": "stdout",
     "output_type": "stream",
     "text": [
      "9\n"
     ]
    }
   ],
   "source": [
    "# rfind() \n",
    "\n",
    "print(names.rfind('Stephen'))\n",
    "\n",
    "# rindex() is also same as rfind()"
   ]
  },
  {
   "cell_type": "code",
   "execution_count": 12,
   "id": "7f06ade9",
   "metadata": {},
   "outputs": [
    {
     "name": "stdout",
     "output_type": "stream",
     "text": [
      "['I am with', 'you']\n"
     ]
    }
   ],
   "source": [
    "# rsplit() can split list and split it from right side when we mention the number\n",
    "line = 'I am with you'\n",
    "print(line.rsplit(' ',1))"
   ]
  },
  {
   "cell_type": "markdown",
   "id": "afa230f4",
   "metadata": {},
   "source": [
    "* rstrip() - strip the spaces or numbers or characters"
   ]
  },
  {
   "cell_type": "code",
   "execution_count": null,
   "id": "afb3d25d",
   "metadata": {},
   "outputs": [],
   "source": []
  }
 ],
 "metadata": {
  "kernelspec": {
   "display_name": "Python 3 (ipykernel)",
   "language": "python",
   "name": "python3"
  },
  "language_info": {
   "codemirror_mode": {
    "name": "ipython",
    "version": 3
   },
   "file_extension": ".py",
   "mimetype": "text/x-python",
   "name": "python",
   "nbconvert_exporter": "python",
   "pygments_lexer": "ipython3",
   "version": "3.9.13"
  }
 },
 "nbformat": 4,
 "nbformat_minor": 5
}
